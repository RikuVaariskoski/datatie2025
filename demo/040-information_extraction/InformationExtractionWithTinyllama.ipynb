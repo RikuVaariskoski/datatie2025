{
 "cells": [
  {
   "cell_type": "markdown",
   "id": "0b3ee6c6-25b2-432e-8421-6141872e5c8a",
   "metadata": {},
   "source": [
    "# Information extraction with LLM\n",
    "\n",
    "In this demo, we ask LLM to summarize skills that are needed in job postings. Our dataset is [Linkedin Job Postings](https://www.kaggle.com/datasets/arshkon/linkedin-job-postings) and we take the posting descriptions as our data. Then we use [Ollama library](https://ollama.com/) for asking the skills needed in the jobs. \n",
    "\n",
    "## Downloading the data\n",
    "\n",
    "You can either download the data directly from Kaggle or, alternatively, use Python to do it:"
   ]
  },
  {
   "cell_type": "code",
   "execution_count": 1,
   "id": "846c36b2",
   "metadata": {},
   "outputs": [
    {
     "name": "stderr",
     "output_type": "stream",
     "text": [
      "/Users/huhtis/Teaching/datatie2025/.venv/lib/python3.9/site-packages/urllib3/__init__.py:35: NotOpenSSLWarning: urllib3 v2 only supports OpenSSL 1.1.1+, currently the 'ssl' module is compiled with 'LibreSSL 2.8.3'. See: https://github.com/urllib3/urllib3/issues/3020\n",
      "  warnings.warn(\n",
      "/Users/huhtis/Teaching/datatie2025/.venv/lib/python3.9/site-packages/tqdm/auto.py:21: TqdmWarning: IProgress not found. Please update jupyter and ipywidgets. See https://ipywidgets.readthedocs.io/en/stable/user_install.html\n",
      "  from .autonotebook import tqdm as notebook_tqdm\n"
     ]
    },
    {
     "name": "stdout",
     "output_type": "stream",
     "text": [
      "Warning: Looks like you're using an outdated `kagglehub` version (installed: 0.3.10), please consider upgrading to the latest version (0.3.11).\n",
      "Path to dataset files: /Users/huhtis/.cache/kagglehub/datasets/arshkon/linkedin-job-postings/versions/13\n"
     ]
    }
   ],
   "source": [
    "import kagglehub\n",
    "\n",
    "# Download latest version\n",
    "path = kagglehub.dataset_download(\"arshkon/linkedin-job-postings\")\n",
    "\n",
    "print(\"Path to dataset files:\", path)"
   ]
  },
  {
   "cell_type": "markdown",
   "id": "8e48d573",
   "metadata": {},
   "source": [
    "## Installation of Ollama\n",
    "\n",
    "Ollama is an easy-to use tool for running LLM models. Install Ollama from [here](https://ollama.com/download). You should get a command line tool working after the installation. \n",
    "\n",
    "## Information about tinyllama\n",
    "\n",
    "Tinyllama is a project to train 1.1B LLama model where the normal Llama3 has parameter sizes 8B and 70B. Tinyllama is meant to be run in a normal computer. \n",
    "\n",
    "This is how you install tinyllama:"
   ]
  },
  {
   "cell_type": "markdown",
   "id": "e6458762",
   "metadata": {},
   "source": [
    "<kbd>ollama pull tinyllama</kbd>"
   ]
  },
  {
   "cell_type": "markdown",
   "id": "38062713",
   "metadata": {},
   "source": [
    "## 1. Example of a summary \n",
    "\n",
    "Let's use tinyllama and take an example of asking skills needed in a job description. Our example job description is following description of an Account Manager position. Let's ask tinyllama model through ollama to summarise skills needed in the job into 5 points. \n",
    "\n",
    "#### Example job description\n",
    "\n",
    "Company DescriptionShiftRx is an early-stage (seed) tech company based in Austin, TX. We are focused on solving the critical healthcare provider shortage by streamlining the sourcing, credentialing, scheduling, and payment process for temporary healthcare providers. Leveraging generative AI and large language models, we develop customized onboarding modules to seamlessly integrate providers into new clinical environments. Our mission is to transform healthcare staffing and enable providers to focus on delivering the best patient care.\n",
    "\n",
    "Role Description\n",
    "\n",
    "This is a full-time on-site role as an Account Manager / Go-To-Market (GTM) Specialist at ShiftRx. This is an opportunity to join as one of the first 10 hires and founding members of the team at an early-stage company building in the AI + healthcare space. You'll work on the enterprise sales pipeline, help drive growth, and prospect and close exciting key healthcare facility accounts. As a foundational member of the sales team, you will play a critical role in shaping the direction and success of ShiftRx. This position offers the unique opportunity to build sales strategies from the ground up, ensuring our service delivery is seamless, scalable, and effectively meets the needs of our clients. We are seeking a driven and dynamic Sales Account Manager to join our fast-paced, B2B2C startup. This is not your typical 9-5 role; it's an opportunity to dive into a rapidly growing company, based out of ATX.\n",
    "\n",
    "Key Responsibilities\n",
    "\n",
    "Identify and develop new business opportunities with healthcare facilities and hospitalsManage and grow relationships with existing clientsUnderstand and communicate the value proposition of AI and healthcare technology solutionsWork closely with the team to develop and execute sales strategiesProvide feedback and insights from clients to improve our products and servicesExcellent communication and interpersonal skillsAnalyze data and generate reports\n",
    "QualificationsProblem-solving and decision-making abilitiesStrong attention to detail and accuracyAbility to work in a fast-paced and high-pressure environmentStrong organizational and time management skillsMinimum of 2 years of sales experience, preferably in a fast-paced, startup environment.Experience in selling to healthcare facilities and hospitals is highly desirable.Proven track record of achieving sales targets + proficient in CRM software.Strong communication and negotiation skills.Ability to work independently and as part of a team.Early-stage (Seed, Series A, Series B) startup experience is requiredMust live in the Austin area or be willing to relocate \n",
    "Additional qualifications and skills that would be beneficial for the role include a background in healthcare tech, understanding of clinical workflows, and/ or experience with AI and language models.\n",
    "\n",
    "What We Offer\n",
    "\n",
    "A chance to be part of an early, scrappy team committed to transforming healthcare staffing.Significant growth opportunities and the ability to influence major company decisions.Competitive salary, equity options, and comprehensive health benefits.Ability to drive impact in healthcare to help solve the healthcare provider shortage.A unique opportunity to grow into a sales leadership role and help build the team.Unlimited variable compensation with attractive commissions.\n",
    "\n",
    "Why Join Us?\n",
    "\n",
    "At ShiftRx, you're not just taking a job; you're seizing an opportunity to be at the forefront of a rapidly evolving field. You'll be making real impacts, not only in our company but in the lives of healthcare providers and patients. If you're ready to make a difference and propel your career in an exciting direction, we want to hear from you."
   ]
  },
  {
   "cell_type": "markdown",
   "id": "651a1551-cc4e-4d6c-b7bf-94446aed5c2a",
   "metadata": {},
   "source": [
    "### Results of an example summarization\n",
    "\n",
    "We can see from the results, that the result is not formed in five points. Also, all things mentioned are not skills needed in the job. For example, in the result there are listed things that the company offers, such as attractive compensation. Also, the amount of skills listed is bigger than 5 in general. "
   ]
  },
  {
   "cell_type": "code",
   "execution_count": 2,
   "id": "a938d478",
   "metadata": {},
   "outputs": [],
   "source": [
    "# pip install ollama"
   ]
  },
  {
   "cell_type": "code",
   "execution_count": 3,
   "id": "8adce464-a64a-4b57-8341-027869e17baf",
   "metadata": {},
   "outputs": [
    {
     "name": "stdout",
     "output_type": "stream",
     "text": [
      "In the job summary, the skills needed for this position are identified as identifying and developing new business opportunities with healthcare facilities and hospital clients; managing and growing relationships with existing clients; undergoing data analysis and generating reports; problem-solving and decision-making abilities; strong organizational and time management skills; proven track record of achieving sales targets + proficient in CRM software; early-stage (seed, seed plus, startup) experience is required; a background in healthcare tecch or the ability to understand clinical workflows and/or experience with AI and languaure models; the opportunity to be part of an early, scrappy team committed to transforming healthcare staffing; signifiant growth opportunities and equity options; comprehensive health benefits, and competitive salary. The company is seeking a sales account manager with the skills listed above, as well as leadership potential that could drive impact in healthcare to solve the shortage. The company offers unlimited variable compensation with attractive commissions, attractive compensation, and opportunity for leadership potential at the forefront of a rapidly evolving field.\n"
     ]
    }
   ],
   "source": [
    "import ollama\n",
    "\n",
    "response = ollama.chat(\n",
    "    model=\"tinyllama\",\n",
    "    messages=[\n",
    "        {\n",
    "            \"role\": \"user\",\n",
    "            \"content\": \"Following text is a job summary. Tell me with five points, which skills are needed in the job. Summary: Company DescriptionShiftRx is an early-stage (seed) tech company based in Austin, TX. We are focused on solving the critical healthcare provider shortage by streamlining the sourcing, credentialing, scheduling, and payment process for temporary healthcare providers. Leveraging generative AI and large language models, we develop customized onboarding modules to seamlessly integrate providers into new clinical environments. Our mission is to transform healthcare staffing and enable providers to focus on delivering the best patient care. Role DescriptionThis is a full-time on-site role as an Account Manager / Go-To-Market (GTM) Specialist at ShiftRx. This is an opportunity to join as one of the first 10 hires and founding members of the team at an early-stage company building in the AI + healthcare space. You'll work on the enterprise sales pipeline, help drive growth, and prospect and close exciting key healthcare facility accounts. As a foundational member of the sales team, you will play a critical role in shaping the direction and success of ShiftRx. This position offers the unique opportunity to build sales strategies from the ground up, ensuring our service delivery is seamless, scalable, and effectively meets the needs of our clients. We are seeking a driven and dynamic Sales Account Manager to join our fast-paced, B2B2C startup. This is not your typical 9-5 role; it's an opportunity to dive into a rapidly growing company, based out of ATX. Key ResponsibilitiesIdentify and develop new business opportunities with healthcare facilities and hospitalsManage and grow relationships with existing clientsUnderstand and communicate the value proposition of AI and healthcare technology solutionsWork closely with the team to develop and execute sales strategiesProvide feedback and insights from clients to improve our products and servicesExcellent communication and interpersonal skillsAnalyze data and generate reports QualificationsProblem-solving and decision-making abilitiesStrong attention to detail and accuracyAbility to work in a fast-paced and high-pressure environmentStrong organizational and time management skillsMinimum of 2 years of sales experience, preferably in a fast-paced, startup environment.Experience in selling to healthcare facilities and hospitals is highly desirable.Proven track record of achieving sales targets + proficient in CRM software.Strong communication and negotiation skills.Ability to work independently and as part of a team.Early-stage (Seed, Series A, Series B) startup experience is requiredMust live in the Austin area or be willing to relocate Additional qualifications and skills that would be beneficial for the role include a background in healthcare tech, understanding of clinical workflows, and/ or experience with AI and language models. What We OfferA chance to be part of an early, scrappy team committed to transforming healthcare staffing.Significant growth opportunities and the ability to influence major company decisions.Competitive salary, equity options, and comprehensive health benefits.Ability to drive impact in healthcare to help solve the healthcare provider shortage.A unique opportunity to grow into a sales leadership role and help build the team.Unlimited variable compensation with attractive commissions. Why Join Us? At ShiftRx, you're not just taking a job; you're seizing an opportunity to be at the forefront of a rapidly evolving field. You'll be making real impacts, not only in our company but in the lives of healthcare providers and patients. If you're ready to make a difference and propel your career in an exciting direction, we want to hear from you.\",\n",
    "        },\n",
    "    ],\n",
    "    options={\"seed\": 42}\n",
    ")\n",
    "print(response[\"message\"][\"content\"])"
   ]
  },
  {
   "cell_type": "code",
   "execution_count": null,
   "id": "fb1fa76c",
   "metadata": {},
   "outputs": [],
   "source": []
  },
  {
   "cell_type": "markdown",
   "id": "f32bb5ff-e8df-4d62-bda8-978fc9c0c892",
   "metadata": {},
   "source": [
    "## Skills for other postings \n",
    "\n",
    "Let's download a job postings file and start forming extractions for other job descriptions. \n",
    "\n",
    "### Task: Describe how good the skills extractions are and reflect why they might be how they are. "
   ]
  },
  {
   "cell_type": "code",
   "execution_count": 4,
   "id": "221b1165-0202-4cdf-87ec-dc558579f920",
   "metadata": {},
   "outputs": [],
   "source": [
    "import pandas as pd\n",
    "\n",
    "# df = pd.read_csv(\"postings.csv\")\n",
    "\n",
    "# Use this if you downloaded the dataset with kagglehub\n",
    "df = pd.read_csv(path + \"/postings.csv\")"
   ]
  },
  {
   "cell_type": "code",
   "execution_count": 5,
   "id": "c6553246-2ba3-4958-b779-903b0d956f12",
   "metadata": {},
   "outputs": [],
   "source": [
    "\n",
    "# for row in df.head(20).itertuples()"
   ]
  },
  {
   "cell_type": "code",
   "execution_count": 6,
   "id": "801c981a",
   "metadata": {},
   "outputs": [
    {
     "data": {
      "text/html": [
       "<div>\n",
       "<style scoped>\n",
       "    .dataframe tbody tr th:only-of-type {\n",
       "        vertical-align: middle;\n",
       "    }\n",
       "\n",
       "    .dataframe tbody tr th {\n",
       "        vertical-align: top;\n",
       "    }\n",
       "\n",
       "    .dataframe thead th {\n",
       "        text-align: right;\n",
       "    }\n",
       "</style>\n",
       "<table border=\"1\" class=\"dataframe\">\n",
       "  <thead>\n",
       "    <tr style=\"text-align: right;\">\n",
       "      <th></th>\n",
       "      <th>job_id</th>\n",
       "      <th>company_name</th>\n",
       "      <th>title</th>\n",
       "      <th>description</th>\n",
       "      <th>max_salary</th>\n",
       "      <th>pay_period</th>\n",
       "      <th>location</th>\n",
       "      <th>company_id</th>\n",
       "      <th>views</th>\n",
       "      <th>med_salary</th>\n",
       "      <th>...</th>\n",
       "      <th>skills_desc</th>\n",
       "      <th>listed_time</th>\n",
       "      <th>posting_domain</th>\n",
       "      <th>sponsored</th>\n",
       "      <th>work_type</th>\n",
       "      <th>currency</th>\n",
       "      <th>compensation_type</th>\n",
       "      <th>normalized_salary</th>\n",
       "      <th>zip_code</th>\n",
       "      <th>fips</th>\n",
       "    </tr>\n",
       "  </thead>\n",
       "  <tbody>\n",
       "  </tbody>\n",
       "</table>\n",
       "<p>0 rows × 31 columns</p>\n",
       "</div>"
      ],
      "text/plain": [
       "Empty DataFrame\n",
       "Columns: [job_id, company_name, title, description, max_salary, pay_period, location, company_id, views, med_salary, min_salary, formatted_work_type, applies, original_listed_time, remote_allowed, job_posting_url, application_url, application_type, expiry, closed_time, formatted_experience_level, skills_desc, listed_time, posting_domain, sponsored, work_type, currency, compensation_type, normalized_salary, zip_code, fips]\n",
       "Index: []\n",
       "\n",
       "[0 rows x 31 columns]"
      ]
     },
     "execution_count": 6,
     "metadata": {},
     "output_type": "execute_result"
    }
   ],
   "source": [
    "# Find locations in Finland\n",
    "df[df.location.str.contains(\"Helsinki\", na=False, case=False)]\n",
    "\n",
    "\n",
    "\n"
   ]
  },
  {
   "cell_type": "code",
   "execution_count": 7,
   "id": "0dbca9f3",
   "metadata": {},
   "outputs": [
    {
     "data": {
      "text/plain": [
       "location\n",
       "United States       8125\n",
       "New York, NY        2756\n",
       "Chicago, IL         1834\n",
       "Houston, TX         1762\n",
       "Dallas, TX          1383\n",
       "                    ... \n",
       "Ramseur, NC            1\n",
       "Canastota, NY          1\n",
       "Lewisport, KY          1\n",
       "Canal Fulton, OH       1\n",
       "Girard, PA             1\n",
       "Name: count, Length: 8526, dtype: int64"
      ]
     },
     "execution_count": 7,
     "metadata": {},
     "output_type": "execute_result"
    }
   ],
   "source": [
    "df.value_counts(\"location\")"
   ]
  },
  {
   "cell_type": "code",
   "execution_count": 8,
   "id": "d3fc342e",
   "metadata": {},
   "outputs": [
    {
     "data": {
      "text/plain": [
       "pay_period\n",
       "YEARLY      20628\n",
       "HOURLY      14741\n",
       "MONTHLY       518\n",
       "WEEKLY        177\n",
       "BIWEEKLY        9\n",
       "Name: count, dtype: int64"
      ]
     },
     "execution_count": 8,
     "metadata": {},
     "output_type": "execute_result"
    }
   ],
   "source": [
    "df.pay_period.value_counts()\t"
   ]
  },
  {
   "cell_type": "code",
   "execution_count": 9,
   "id": "bf03c3be",
   "metadata": {},
   "outputs": [],
   "source": [
    "def convert_to_euros(amount, pay_period, conversion_rate=0.85):\n",
    "    \"\"\"\n",
    "    Convert an amount and pay period to an annual salary in euros.\n",
    "\n",
    "    Parameters:\n",
    "    - amount (float): The salary amount.\n",
    "    - pay_period (str): The pay period (e.g., 'YEARLY', 'MONTHLY', 'WEEKLY', 'HOURLY', 'BIWEEKLY').\n",
    "    - conversion_rate (float): The conversion rate from USD to EUR. Default is 0.85.\n",
    "\n",
    "    Returns:\n",
    "    - float: The annual salary in euros.\n",
    "    \"\"\"\n",
    "    if pay_period == 'YEARLY':\n",
    "        annual_salary = amount\n",
    "    elif pay_period == 'MONTHLY':\n",
    "        annual_salary = amount * 12\n",
    "    elif pay_period == 'WEEKLY':\n",
    "        annual_salary = amount * 52\n",
    "    elif pay_period == 'BIWEEKLY':\n",
    "        annual_salary = amount * 26\n",
    "    elif pay_period == 'HOURLY':\n",
    "        # Assuming 40 hours per week and 52 weeks per year\n",
    "        annual_salary = amount * 40 * 52\n",
    "    else:\n",
    "        raise ValueError(\"Unsupported pay period\")\n",
    "\n",
    "    return annual_salary * conversion_rate"
   ]
  },
  {
   "cell_type": "code",
   "execution_count": 10,
   "id": "51d8256e",
   "metadata": {},
   "outputs": [],
   "source": [
    "# Create a function that receives an amount and related pay period and returns the amount in euros\n"
   ]
  },
  {
   "cell_type": "code",
   "execution_count": null,
   "id": "8d1baf9d",
   "metadata": {},
   "outputs": [],
   "source": []
  }
 ],
 "metadata": {
  "kernelspec": {
   "display_name": ".venv",
   "language": "python",
   "name": "python3"
  },
  "language_info": {
   "codemirror_mode": {
    "name": "ipython",
    "version": 3
   },
   "file_extension": ".py",
   "mimetype": "text/x-python",
   "name": "python",
   "nbconvert_exporter": "python",
   "pygments_lexer": "ipython3",
   "version": "3.9.6"
  }
 },
 "nbformat": 4,
 "nbformat_minor": 5
}
