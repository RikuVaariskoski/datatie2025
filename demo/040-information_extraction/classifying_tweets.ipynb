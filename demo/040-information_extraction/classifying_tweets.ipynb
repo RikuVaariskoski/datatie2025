{
 "cells": [
  {
   "attachments": {},
   "cell_type": "markdown",
   "id": "2f41b193-221d-408d-bd70-18eba1cd6860",
   "metadata": {},
   "source": [
    "## Valmistautuminen\n",
    "\n",
    "Jos käytössäsi on Windows-kone, saatat joutua tekemään lisäasennuksia jotta saat [fastText-kirjaston asennettua](https://medium.com/@oleg.tarasov/building-fasttext-python-wrapper-from-source-under-windows-68e693a68cbb). \n",
    "Toinen vaihtoehto on toteuttaa tämä harjoitus [Google Colabissa](https://colab.research.google.com/). \n",
    "\n",
    "\n",
    "1. Asennettava: <code>fasttext</code>, <code>nltk</code>, <code>spacy</code> \n",
    "1. Käynnistä kernel uudelleen\n",
    "1. Jos virheet jatkuvat, asenna:  <code>spacy-transformers</code> \n",
    "1. Käynnistä kernel uudelleen\n",
    "1. <code>python -m spacy download fi_core_news_sm</code>\n",
    "\n"
   ]
  },
  {
   "cell_type": "code",
   "execution_count": null,
   "id": "9e6adce3",
   "metadata": {},
   "outputs": [],
   "source": [
    "!pip install fasttext nltk spacy"
   ]
  },
  {
   "cell_type": "code",
   "execution_count": null,
   "id": "88d810e0-ad62-4ad2-8cc2-c59e8d81bcbc",
   "metadata": {},
   "outputs": [],
   "source": [
    "!python -m spacy download fi_core_news_sm"
   ]
  },
  {
   "cell_type": "markdown",
   "id": "e8f831c4-ac70-4ec8-a085-63351ab20c38",
   "metadata": {},
   "source": [
    "Following Teemu's presentation earlier this week, the trained FastText classifier was downloaded using the following lines:\n",
    "<code>\n",
    "    ft_classifier.quantize(input=input, retrain=True)\n",
    "    ft_classifier.save_model(\"ft_classifier.ftz\")\n",
    "</code>"
   ]
  },
  {
   "cell_type": "code",
   "execution_count": null,
   "id": "06603593-58ab-44ca-888b-c39570ff97c5",
   "metadata": {},
   "outputs": [],
   "source": [
    "import fasttext\n",
    "import pandas as pd\n",
    "import re\n",
    "import nltk\n",
    "from nltk.corpus import stopwords\n",
    "# import libvoikko #perusmutoistamiseen käytetty kirjasto\n",
    "import spacy"
   ]
  },
  {
   "cell_type": "code",
   "execution_count": null,
   "id": "4fcc6bf9",
   "metadata": {},
   "outputs": [],
   "source": [
    "# !python -m spacy download fi_core_news_sm"
   ]
  },
  {
   "cell_type": "code",
   "execution_count": null,
   "id": "489ff581-b45d-4791-8466-2286768a00ed",
   "metadata": {},
   "outputs": [],
   "source": [
    "nlp = spacy.load(\"fi_core_news_sm\")"
   ]
  },
  {
   "cell_type": "code",
   "execution_count": null,
   "id": "05a062cb-48a9-46a8-a7de-c252f23d464b",
   "metadata": {},
   "outputs": [],
   "source": []
  },
  {
   "cell_type": "code",
   "execution_count": null,
   "id": "cdce0aa0-8c44-42ac-a9f0-48f28ed7698f",
   "metadata": {},
   "outputs": [],
   "source": []
  },
  {
   "cell_type": "code",
   "execution_count": null,
   "id": "c5b45ab1-2f40-4e9f-bf55-5289855b371f",
   "metadata": {},
   "outputs": [],
   "source": [
    "\n",
    "print(stopwords.words('finnish'))"
   ]
  },
  {
   "cell_type": "code",
   "execution_count": null,
   "id": "3701116b-0b47-4478-8266-13c66f8ec693",
   "metadata": {},
   "outputs": [],
   "source": []
  },
  {
   "cell_type": "code",
   "execution_count": null,
   "id": "2b13488d-7a28-4edb-b397-3e5bcb8fd483",
   "metadata": {},
   "outputs": [],
   "source": [
    "# Load tweets datasets\n",
    "# Note: May need to install openpyxl library for the following line to work\n",
    "# pip install openpyxl\n",
    "df = pd.read_excel('shared_data/sample_texts.xlsx')\n"
   ]
  },
  {
   "cell_type": "code",
   "execution_count": null,
   "id": "6d73a0de-24a5-42b8-b06a-20b3632a18ef",
   "metadata": {},
   "outputs": [],
   "source": [
    "df.head()"
   ]
  },
  {
   "cell_type": "code",
   "execution_count": null,
   "id": "077ddcd3-76bd-4f86-adf8-0b077096b388",
   "metadata": {},
   "outputs": [],
   "source": [
    "tweets = df[['text_nousernames', 'eduskunta-vkk']]"
   ]
  },
  {
   "cell_type": "code",
   "execution_count": null,
   "id": "69c0b52e-8ea4-4e8a-a8f7-2a6f6988419b",
   "metadata": {},
   "outputs": [],
   "source": [
    "tweets.head()"
   ]
  },
  {
   "cell_type": "code",
   "execution_count": null,
   "id": "f30fc1dc-ae26-43f9-b614-907c612e56e7",
   "metadata": {},
   "outputs": [],
   "source": [
    "# Methods imported from the original Notebook\n",
    "def preprocess_word(word, stopwords):\n",
    "    word = re.sub(\"[^A-Za-z0-9ÄäÖö-]+\", \"\", word)\n",
    "    word = re.sub(\"-\", \" \", word)\n",
    "    word = word.strip().lower()\n",
    "    if len(word) < 2:\n",
    "        return \"\"\n",
    "    if type(word) != None:\n",
    "        if word in stopwords:\n",
    "            return \"\"\n",
    "        return word\n",
    "\n",
    "def preprocess_sent(sent, stopwords):\n",
    "    if sent != \"\":\n",
    "        # lemmatize words using spacy\n",
    "        doc = nlp(sent)\n",
    "        sent = \" \".join([token.lemma_ for token in doc])\n",
    "        \n",
    "        words = sent.strip().split(\" \")\n",
    "        final_sent = \" \".join([preprocess_word(word, stopwords) for word in words if type(word) != None])\n",
    "        return final_sent\n",
    "\n",
    "def preprocess_row(teksti, stopwords):\n",
    "    if type(teksti) == str:\n",
    "        sents = teksti.strip().split(\".\")\n",
    "        sents = filter(None,sents)\n",
    "        teksti = \".\".join([preprocess_sent(sent, stopwords) for sent in sents if type(sent) != None])\n",
    "        return teksti"
   ]
  },
  {
   "cell_type": "code",
   "execution_count": null,
   "id": "cab51486-0917-476d-8969-4d52f8925766",
   "metadata": {},
   "outputs": [],
   "source": []
  },
  {
   "cell_type": "code",
   "execution_count": null,
   "id": "4083051a-bc7e-4822-b98b-28a26bfda7e8",
   "metadata": {},
   "outputs": [],
   "source": [
    "tweets.head()"
   ]
  },
  {
   "cell_type": "code",
   "execution_count": null,
   "id": "c4037b15-b46e-4e3c-8047-166210a8b785",
   "metadata": {},
   "outputs": [],
   "source": []
  },
  {
   "cell_type": "code",
   "execution_count": null,
   "id": "30405310-3c88-44c6-92e9-d6b6f305cfcc",
   "metadata": {},
   "outputs": [],
   "source": [
    "#Apufunktio, jolla voidaan luoda fastText-yhteensopiva opetus- ja tekstitiedosto\n",
    "\n",
    "def preprocess_ft_df(df):\n",
    "    df[\"label\"] = [\"__label__\" + \"_\".join(str(x).split(\" \")) for x in df[\"eduskunta-vkk\"].values]\n",
    "    df[\"preprocessed\"] = [preprocess_row(sentence, stopwords.words('finnish')) for sentence in df[\"text_nousernames\"]]\n",
    "    df = df.drop([\"eduskunta-vkk\", \"text_nousernames\"], axis = 1)\n",
    "    return df"
   ]
  },
  {
   "cell_type": "code",
   "execution_count": null,
   "id": "7afa6ce6-bdea-47a4-ac44-17754362c9c8",
   "metadata": {},
   "outputs": [],
   "source": [
    "new_df = preprocess_ft_df(tweets)"
   ]
  },
  {
   "cell_type": "code",
   "execution_count": null,
   "id": "3cd3ae38-f572-4c41-9b8b-b9af934e6e44",
   "metadata": {},
   "outputs": [],
   "source": [
    "new_df.head()"
   ]
  },
  {
   "cell_type": "code",
   "execution_count": null,
   "id": "6a6c9652-1de9-4afb-b928-69e25e90e403",
   "metadata": {},
   "outputs": [],
   "source": []
  },
  {
   "cell_type": "code",
   "execution_count": null,
   "id": "1ca91d24-b379-411d-86c1-254b5b62ba4b",
   "metadata": {},
   "outputs": [],
   "source": [
    "\n",
    "model = fasttext.load_model(\"model_filename.ftz\")"
   ]
  },
  {
   "cell_type": "code",
   "execution_count": null,
   "id": "054073ba",
   "metadata": {},
   "outputs": [],
   "source": [
    "model.predict('Hiilen sidonta vaatii toimenpiteitä metsäpolitiikassa')[0][0]\n"
   ]
  },
  {
   "cell_type": "code",
   "execution_count": null,
   "id": "1d675f54-6adc-4215-a3f2-a5f7956506fe",
   "metadata": {},
   "outputs": [],
   "source": [
    "# TODO: Produce predictions for all tweets. Measure the overall accuracy (correct predictions / mistakes)\n",
    "\n"
   ]
  },
  {
   "cell_type": "code",
   "execution_count": null,
   "id": "7e7afaa7",
   "metadata": {},
   "outputs": [],
   "source": []
  },
  {
   "cell_type": "code",
   "execution_count": null,
   "id": "b6c077db-3b0b-4837-a674-d9392f6ab6b3",
   "metadata": {},
   "outputs": [],
   "source": []
  },
  {
   "cell_type": "code",
   "execution_count": null,
   "id": "8a1d1ee2",
   "metadata": {},
   "outputs": [],
   "source": []
  },
  {
   "cell_type": "code",
   "execution_count": null,
   "id": "7f253361",
   "metadata": {},
   "outputs": [],
   "source": []
  }
 ],
 "metadata": {
  "kernelspec": {
   "display_name": "Python 3 (ipykernel)",
   "language": "python",
   "name": "python3"
  },
  "language_info": {
   "codemirror_mode": {
    "name": "ipython",
    "version": 3
   },
   "file_extension": ".py",
   "mimetype": "text/x-python",
   "name": "python",
   "nbconvert_exporter": "python",
   "pygments_lexer": "ipython3",
   "version": "3.11.8"
  }
 },
 "nbformat": 4,
 "nbformat_minor": 5
}
